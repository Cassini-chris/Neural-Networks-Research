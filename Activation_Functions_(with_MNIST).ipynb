{
  "cells": [
    {
      "cell_type": "code",
      "execution_count": 2,
      "metadata": {
        "id": "_U-76j51UtKZ"
      },
      "outputs": [],
      "source": [
        "import tensorflow as tf\n",
        "from tensorflow import keras\n",
        "from tensorflow.keras.layers import Dense\n",
        "from tensorflow.keras.models import Sequential\n",
        "from tensorflow.keras.datasets import mnist\n"
      ]
    },
    {
      "cell_type": "code",
      "execution_count": 3,
      "metadata": {
        "id": "rQNnI9irUjuO",
        "colab": {
          "base_uri": "https://localhost:8080/"
        },
        "outputId": "20dedf99-a41a-44a3-8daa-75c63ceadc2c"
      },
      "outputs": [
        {
          "output_type": "stream",
          "name": "stdout",
          "text": [
            "Downloading data from https://storage.googleapis.com/tensorflow/tf-keras-datasets/mnist.npz\n",
            "11493376/11490434 [==============================] - 0s 0us/step\n",
            "11501568/11490434 [==============================] - 0s 0us/step\n"
          ]
        }
      ],
      "source": [
        "(x_train, y_train), (x_test, y_test) = mnist.load_data()"
      ]
    },
    {
      "cell_type": "code",
      "execution_count": 4,
      "metadata": {
        "colab": {
          "base_uri": "https://localhost:8080/"
        },
        "id": "WqiJ4WvIVL3o",
        "outputId": "8f02e14d-e9c1-4f8d-e2b0-46c8056ad2a4"
      },
      "outputs": [
        {
          "output_type": "stream",
          "name": "stdout",
          "text": [
            "(60000, 28, 28)\n",
            "(60000,)\n",
            "(10000, 28, 28)\n",
            "(10000,)\n"
          ]
        }
      ],
      "source": [
        "print(x_train.shape)\n",
        "print(y_train.shape)\n",
        "\n",
        "print(x_test.shape)\n",
        "print(y_test.shape)"
      ]
    },
    {
      "cell_type": "code",
      "execution_count": 5,
      "metadata": {
        "id": "fvZ0BUths8J0"
      },
      "outputs": [],
      "source": [
        "from keras import backend as K\n",
        "\n",
        "def custom_activation(x):\n",
        "    return (K.sigmoid(x) * 5) - 1\n",
        "\n"
      ]
    },
    {
      "cell_type": "code",
      "execution_count": 6,
      "metadata": {
        "colab": {
          "base_uri": "https://localhost:8080/"
        },
        "id": "5f_WY9pbVpHI",
        "outputId": "69e3d302-aa24-430b-aa27-a61170c16a3f"
      },
      "outputs": [
        {
          "output_type": "stream",
          "name": "stdout",
          "text": [
            "Model: \"sequential\"\n",
            "_________________________________________________________________\n",
            " Layer (type)                Output Shape              Param #   \n",
            "=================================================================\n",
            " dense (Dense)               (None, 28, 64)            1856      \n",
            "                                                                 \n",
            " flatten (Flatten)           (None, 1792)              0         \n",
            "                                                                 \n",
            " dense_1 (Dense)             (None, 64)                114752    \n",
            "                                                                 \n",
            " dense_2 (Dense)             (None, 10)                650       \n",
            "                                                                 \n",
            "=================================================================\n",
            "Total params: 117,258\n",
            "Trainable params: 117,258\n",
            "Non-trainable params: 0\n",
            "_________________________________________________________________\n",
            "60000/60000 [==============================] - 200s 3ms/step - loss: 1.4285 - acc: 0.5824 - val_loss: 0.7977 - val_acc: 0.7247\n"
          ]
        }
      ],
      "source": [
        "model = tf.keras.models.Sequential([\n",
        "tf.keras.layers.Dense(64, activation='relu', input_shape=[28,28]),\n",
        "# tf.keras.layers.MaxPooling2D(2,2),\n",
        "# tf.keras.layers.Conv2D(64, (3,3), activation='relu'),\n",
        "# tf.keras.layers.MaxPooling2D(2,2),\n",
        "# tf.keras.layers.Conv2D(64, (3,3), activation='relu'),\n",
        "# tf.keras.layers.MaxPooling2D(2,2),\n",
        "tf.keras.layers.Flatten(),\n",
        "tf.keras.layers.Dense(64, activation='relu'),\n",
        "tf.keras.layers.Dense(10, activation='softmax')\n",
        "])\n",
        "\n",
        "model.summary()\n",
        "model.compile(loss = 'sparse_categorical_crossentropy', optimizer ='Adam', metrics=['acc'])\n",
        "\n",
        "history = model.fit(x_train, y_train, verbose=1, batch_size=1, epochs=1, validation_data=(x_test, y_test))"
      ]
    },
    {
      "cell_type": "code",
      "execution_count": 7,
      "metadata": {
        "colab": {
          "base_uri": "https://localhost:8080/"
        },
        "id": "fo0Om7kqrlMk",
        "outputId": "d0b835dd-b4ae-4567-df84-5fa260a86c70"
      },
      "outputs": [
        {
          "output_type": "stream",
          "name": "stdout",
          "text": [
            "Model: \"sequential_1\"\n",
            "_________________________________________________________________\n",
            " Layer (type)                Output Shape              Param #   \n",
            "=================================================================\n",
            " dense_3 (Dense)             (None, 28, 64)            1856      \n",
            "                                                                 \n",
            " flatten_1 (Flatten)         (None, 1792)              0         \n",
            "                                                                 \n",
            " dense_4 (Dense)             (None, 252)               451836    \n",
            "                                                                 \n",
            " dense_5 (Dense)             (None, 84)                21252     \n",
            "                                                                 \n",
            " dense_6 (Dense)             (None, 10)                850       \n",
            "                                                                 \n",
            "=================================================================\n",
            "Total params: 475,794\n",
            "Trainable params: 475,794\n",
            "Non-trainable params: 0\n",
            "_________________________________________________________________\n",
            "60000/60000 [==============================] - 209s 3ms/step - loss: 0.6955 - acc: 0.8613 - val_loss: 0.5196 - val_acc: 0.8893\n"
          ]
        }
      ],
      "source": [
        "model_2 = tf.keras.models.Sequential([\n",
        "tf.keras.layers.Dense(64, activation='relu', input_shape=[28,28]),\n",
        "tf.keras.layers.Flatten(),\n",
        "tf.keras.layers.Dense(252, activation='relu'),\n",
        "tf.keras.layers.Dense(84, activation='relu'),\n",
        "tf.keras.layers.Dense(10, activation='softmax')\n",
        "])\n",
        "\n",
        "model_2.summary()\n",
        "model_2.compile(loss = 'sparse_categorical_crossentropy', optimizer ='Adam', metrics=['acc'])\n",
        "\n",
        "history = model_2.fit(x_train, y_train, verbose=1, batch_size=1, epochs=1, validation_data=(x_test, y_test))"
      ]
    },
    {
      "cell_type": "code",
      "execution_count": 12,
      "metadata": {
        "colab": {
          "base_uri": "https://localhost:8080/",
          "height": 303
        },
        "id": "bDzCDW3Z2L--",
        "outputId": "e15c26f6-08f1-41c7-98c2-360b15fb9f3b"
      },
      "outputs": [
        {
          "output_type": "stream",
          "name": "stdout",
          "text": [
            "3.141592653589793\n"
          ]
        },
        {
          "output_type": "display_data",
          "data": {
            "text/plain": [
              "<Figure size 432x288 with 1 Axes>"
            ],
            "image/png": "[encoded data removed]"
          },
          "metadata": {
            "needs_background": "light"
          }
        }
      ],
      "source": [
        "from keras import backend as K\n",
        "\n",
        "import numpy as np\n",
        "import matplotlib.pyplot as plt\n",
        "import seaborn as sns\n",
        "sns.set()\n",
        "%matplotlib inline\n",
        "\n",
        "import math\n",
        "\n",
        "# Print the value of pi\n",
        "print (math.pi)\n",
        "\n",
        "pi = math.pi\n",
        "x = np.linspace(-100,100,100)\n",
        "\n",
        "\n",
        "def custom_activation(x):\n",
        "   return (K.sin(x))/x\n",
        "\n",
        "\n",
        "\n",
        "plt.plot(x, custom_activation(x), label = 'Custom')\n",
        "plt.legend(fontsize = 12)\n",
        "plt.xlabel('x')\n",
        "plt.show()"
      ]
    },
    {
      "cell_type": "code",
      "execution_count": 8,
      "metadata": {
        "id": "alicvRQhlx1b"
      },
      "outputs": [],
      "source": [
        "\n"
      ]
    },
    {
      "cell_type": "code",
      "execution_count": 9,
      "metadata": {
        "colab": {
          "base_uri": "https://localhost:8080/"
        },
        "id": "tH_7pQ97tBbr",
        "outputId": "c64966c4-f756-4b30-fb0d-763d52ad7837"
      },
      "outputs": [
        {
          "output_type": "stream",
          "name": "stdout",
          "text": [
            "Model: \"sequential_2\"\n",
            "_________________________________________________________________\n",
            " Layer (type)                Output Shape              Param #   \n",
            "=================================================================\n",
            " dense_7 (Dense)             (None, 28, 64)            1856      \n",
            "                                                                 \n",
            " flatten_2 (Flatten)         (None, 1792)              0         \n",
            "                                                                 \n",
            " dense_8 (Dense)             (None, 252)               451836    \n",
            "                                                                 \n",
            " dense_9 (Dense)             (None, 84)                21252     \n",
            "                                                                 \n",
            " dense_10 (Dense)            (None, 10)                850       \n",
            "                                                                 \n",
            "=================================================================\n",
            "Total params: 475,794\n",
            "Trainable params: 475,794\n",
            "Non-trainable params: 0\n",
            "_________________________________________________________________\n",
            "60000/60000 [==============================] - 226s 4ms/step - loss: nan - acc: 0.0987 - val_loss: nan - val_acc: 0.0980\n"
          ]
        }
      ],
      "source": [
        "model_3 = tf.keras.models.Sequential([\n",
        "tf.keras.layers.Dense(64, activation=custom_activation, input_shape=[28,28]),\n",
        "tf.keras.layers.Flatten(),\n",
        "tf.keras.layers.Dense(252, activation=custom_activation),\n",
        "tf.keras.layers.Dense(84, activation=custom_activation),\n",
        "tf.keras.layers.Dense(10, activation='softmax')\n",
        "])\n",
        "\n",
        "model_3.summary()\n",
        "model_3.compile(loss = 'sparse_categorical_crossentropy', optimizer ='Adam', metrics=['acc'])\n",
        "\n",
        "history = model_3.fit(x_train, y_train, verbose=1, batch_size=1, epochs=1, validation_data=(x_test, y_test))"
      ]
    },
    {
      "cell_type": "code",
      "execution_count": 13,
      "metadata": {
        "colab": {
          "base_uri": "https://localhost:8080/",
          "height": 285
        },
        "id": "C03_7dkhmRPc",
        "outputId": "344ee0f4-0f9f-433f-dd37-1bd09b887ec5"
      },
      "outputs": [
        {
          "output_type": "display_data",
          "data": {
            "text/plain": [
              "<Figure size 432x288 with 1 Axes>"
            ],
            "image/png": "[encoded data removed]"
          },
          "metadata": {
            "needs_background": "light"
          }
        }
      ],
      "source": [
        "def heartbeat_activation(x):\n",
        " # x = K.cast(x, 'float32')\n",
        "      return (K.maximum(x*0,K.sin(x))/x* ((abs(x+8)) /((13*(abs(-1))**4) /7)+1))\n",
        "  # alpha = 0.1\n",
        "  # return K.maximum(0*x, x)\n",
        "\n",
        "plt.plot(x, heartbeat_activation(x), label = 'Heartbeat')\n",
        "plt.legend(fontsize = 12)\n",
        "plt.xlabel('x')\n",
        "plt.show()\n",
        "\n"
      ]
    },
    {
      "cell_type": "code",
      "execution_count": 11,
      "metadata": {
        "colab": {
          "base_uri": "https://localhost:8080/",
          "height": 1000
        },
        "id": "CFQ040ZVmVsT",
        "outputId": "69962c5e-cba7-4cc6-c915-e7a435dc6735"
      },
      "outputs": [
        {
          "output_type": "stream",
          "name": "stdout",
          "text": [
            "Model: \"sequential_3\"\n",
            "_________________________________________________________________\n",
            " Layer (type)                Output Shape              Param #   \n",
            "=================================================================\n",
            " dense_11 (Dense)            (None, 28, 64)            1856      \n",
            "                                                                 \n",
            " flatten_3 (Flatten)         (None, 1792)              0         \n",
            "                                                                 \n",
            " dense_12 (Dense)            (None, 252)               451836    \n",
            "                                                                 \n",
            " dense_13 (Dense)            (None, 84)                21252     \n",
            "                                                                 \n",
            " dense_14 (Dense)            (None, 10)                850       \n",
            "                                                                 \n",
            "=================================================================\n",
            "Total params: 475,794\n",
            "Trainable params: 475,794\n",
            "Non-trainable params: 0\n",
            "_________________________________________________________________\n",
            "Epoch 1/100\n",
            "6000/6000 [==============================] - 27s 4ms/step - loss: 2.1494 - acc: 0.2172 - val_loss: 2.1347 - val_acc: 0.2188\n",
            "Epoch 2/100\n",
            "6000/6000 [==============================] - 25s 4ms/step - loss: 1.9915 - acc: 0.2827 - val_loss: 1.9963 - val_acc: 0.2854\n",
            "Epoch 3/100\n",
            "6000/6000 [==============================] - 25s 4ms/step - loss: 1.9173 - acc: 0.3116 - val_loss: 1.9114 - val_acc: 0.3101\n",
            "Epoch 4/100\n",
            "6000/6000 [==============================] - 25s 4ms/step - loss: 2.0662 - acc: 0.2539 - val_loss: 2.0816 - val_acc: 0.2505\n",
            "Epoch 5/100\n",
            "6000/6000 [==============================] - 25s 4ms/step - loss: 1.9955 - acc: 0.2803 - val_loss: 1.9211 - val_acc: 0.3155\n",
            "Epoch 6/100\n",
            "6000/6000 [==============================] - 25s 4ms/step - loss: 1.9686 - acc: 0.2871 - val_loss: 2.0064 - val_acc: 0.2645\n",
            "Epoch 7/100\n",
            "6000/6000 [==============================] - 25s 4ms/step - loss: 1.9576 - acc: 0.2904 - val_loss: 1.9686 - val_acc: 0.2948\n",
            "Epoch 8/100\n",
            "6000/6000 [==============================] - 25s 4ms/step - loss: 1.9415 - acc: 0.2987 - val_loss: 1.8527 - val_acc: 0.3277\n",
            "Epoch 9/100\n",
            "6000/6000 [==============================] - 25s 4ms/step - loss: 1.8767 - acc: 0.3215 - val_loss: 1.7589 - val_acc: 0.3666\n",
            "Epoch 10/100\n",
            "6000/6000 [==============================] - 26s 4ms/step - loss: 1.7660 - acc: 0.3622 - val_loss: 1.7563 - val_acc: 0.3695\n",
            "Epoch 11/100\n",
            "6000/6000 [==============================] - 25s 4ms/step - loss: 1.7512 - acc: 0.3715 - val_loss: 1.7137 - val_acc: 0.3862\n",
            "Epoch 12/100\n",
            "6000/6000 [==============================] - 25s 4ms/step - loss: 1.7104 - acc: 0.3868 - val_loss: 1.6799 - val_acc: 0.4053\n",
            "Epoch 13/100\n",
            "6000/6000 [==============================] - 25s 4ms/step - loss: 1.6729 - acc: 0.4053 - val_loss: 1.6470 - val_acc: 0.4214\n",
            "Epoch 14/100\n",
            "6000/6000 [==============================] - 25s 4ms/step - loss: 1.6214 - acc: 0.4263 - val_loss: 1.6427 - val_acc: 0.4178\n",
            "Epoch 15/100\n",
            "6000/6000 [==============================] - 25s 4ms/step - loss: 1.6369 - acc: 0.4212 - val_loss: 1.6793 - val_acc: 0.3990\n",
            "Epoch 16/100\n",
            "6000/6000 [==============================] - 25s 4ms/step - loss: 1.6741 - acc: 0.4122 - val_loss: 1.7134 - val_acc: 0.3981\n",
            "Epoch 17/100\n",
            "6000/6000 [==============================] - 25s 4ms/step - loss: 1.7214 - acc: 0.3912 - val_loss: 1.7880 - val_acc: 0.3692\n",
            "Epoch 18/100\n",
            "6000/6000 [==============================] - 25s 4ms/step - loss: 1.7644 - acc: 0.3752 - val_loss: 1.7683 - val_acc: 0.3838\n",
            "Epoch 19/100\n",
            "6000/6000 [==============================] - 25s 4ms/step - loss: 1.6950 - acc: 0.4102 - val_loss: 1.5400 - val_acc: 0.4699\n",
            "Epoch 20/100\n",
            "6000/6000 [==============================] - 25s 4ms/step - loss: 1.6227 - acc: 0.4325 - val_loss: 1.6863 - val_acc: 0.4135\n",
            "Epoch 21/100\n",
            "6000/6000 [==============================] - 25s 4ms/step - loss: 1.8471 - acc: 0.3383 - val_loss: 1.9557 - val_acc: 0.3032\n",
            "Epoch 22/100\n",
            "6000/6000 [==============================] - 25s 4ms/step - loss: 1.8592 - acc: 0.3363 - val_loss: 1.8150 - val_acc: 0.3405\n",
            "Epoch 23/100\n",
            "6000/6000 [==============================] - 25s 4ms/step - loss: 1.7857 - acc: 0.3606 - val_loss: 1.7157 - val_acc: 0.3832\n",
            "Epoch 24/100\n",
            "6000/6000 [==============================] - 25s 4ms/step - loss: 1.6423 - acc: 0.4185 - val_loss: 1.6875 - val_acc: 0.4100\n",
            "Epoch 25/100\n",
            "6000/6000 [==============================] - 25s 4ms/step - loss: 1.7070 - acc: 0.4014 - val_loss: 1.8198 - val_acc: 0.3581\n",
            "Epoch 26/100\n",
            "6000/6000 [==============================] - 25s 4ms/step - loss: 1.7677 - acc: 0.3733 - val_loss: 1.7708 - val_acc: 0.3650\n",
            "Epoch 27/100\n",
            "6000/6000 [==============================] - 25s 4ms/step - loss: 1.7286 - acc: 0.3787 - val_loss: 1.6714 - val_acc: 0.4035\n",
            "Epoch 28/100\n",
            "6000/6000 [==============================] - 25s 4ms/step - loss: 1.7276 - acc: 0.3750 - val_loss: 1.7256 - val_acc: 0.3736\n",
            "Epoch 29/100\n",
            "6000/6000 [==============================] - 25s 4ms/step - loss: 1.7434 - acc: 0.3625 - val_loss: 1.7058 - val_acc: 0.3764\n",
            "Epoch 30/100\n",
            "6000/6000 [==============================] - 25s 4ms/step - loss: 1.7392 - acc: 0.3662 - val_loss: 1.7467 - val_acc: 0.3603\n",
            "Epoch 31/100\n",
            "6000/6000 [==============================] - 24s 4ms/step - loss: 1.7074 - acc: 0.3760 - val_loss: 1.6573 - val_acc: 0.3878\n",
            "Epoch 32/100\n",
            "5227/6000 [=========================>....] - ETA: 2s - loss: 1.7288 - acc: 0.3735"
          ]
        },
        {
          "output_type": "error",
          "ename": "KeyboardInterrupt",
          "evalue": "ignored",
          "traceback": [
            "\u001b[0;31m---------------------------------------------------------------------------\u001b[0m",
            "\u001b[0;31mKeyboardInterrupt\u001b[0m                         Traceback (most recent call last)",
            "\u001b[0;32m<ipython-input-11-2ae71f872df3>\u001b[0m in \u001b[0;36m<module>\u001b[0;34m()\u001b[0m\n\u001b[1;32m     10\u001b[0m \u001b[0mmodel_4\u001b[0m\u001b[0;34m.\u001b[0m\u001b[0mcompile\u001b[0m\u001b[0;34m(\u001b[0m\u001b[0mloss\u001b[0m \u001b[0;34m=\u001b[0m \u001b[0;34m'sparse_categorical_crossentropy'\u001b[0m\u001b[0;34m,\u001b[0m \u001b[0moptimizer\u001b[0m \u001b[0;34m=\u001b[0m\u001b[0;34m'Adam'\u001b[0m\u001b[0;34m,\u001b[0m \u001b[0mmetrics\u001b[0m\u001b[0;34m=\u001b[0m\u001b[0;34m[\u001b[0m\u001b[0;34m'acc'\u001b[0m\u001b[0;34m]\u001b[0m\u001b[0;34m)\u001b[0m\u001b[0;34m\u001b[0m\u001b[0;34m\u001b[0m\u001b[0m\n\u001b[1;32m     11\u001b[0m \u001b[0;34m\u001b[0m\u001b[0m\n\u001b[0;32m---> 12\u001b[0;31m \u001b[0mhistory\u001b[0m \u001b[0;34m=\u001b[0m \u001b[0mmodel_4\u001b[0m\u001b[0;34m.\u001b[0m\u001b[0mfit\u001b[0m\u001b[0;34m(\u001b[0m\u001b[0mx_train\u001b[0m\u001b[0;34m,\u001b[0m \u001b[0my_train\u001b[0m\u001b[0;34m,\u001b[0m \u001b[0mverbose\u001b[0m\u001b[0;34m=\u001b[0m\u001b[0;36m1\u001b[0m\u001b[0;34m,\u001b[0m \u001b[0mbatch_size\u001b[0m\u001b[0;34m=\u001b[0m\u001b[0;36m10\u001b[0m\u001b[0;34m,\u001b[0m \u001b[0mepochs\u001b[0m\u001b[0;34m=\u001b[0m\u001b[0;36m100\u001b[0m\u001b[0;34m,\u001b[0m \u001b[0mvalidation_data\u001b[0m\u001b[0;34m=\u001b[0m\u001b[0;34m(\u001b[0m\u001b[0mx_test\u001b[0m\u001b[0;34m,\u001b[0m \u001b[0my_test\u001b[0m\u001b[0;34m)\u001b[0m\u001b[0;34m)\u001b[0m\u001b[0;34m\u001b[0m\u001b[0;34m\u001b[0m\u001b[0m\n\u001b[0m",
            "\u001b[0;32m/usr/local/lib/python3.7/dist-packages/keras/utils/traceback_utils.py\u001b[0m in \u001b[0;36merror_handler\u001b[0;34m(*args, **kwargs)\u001b[0m\n\u001b[1;32m     62\u001b[0m     \u001b[0mfiltered_tb\u001b[0m \u001b[0;34m=\u001b[0m \u001b[0;32mNone\u001b[0m\u001b[0;34m\u001b[0m\u001b[0;34m\u001b[0m\u001b[0m\n\u001b[1;32m     63\u001b[0m     \u001b[0;32mtry\u001b[0m\u001b[0;34m:\u001b[0m\u001b[0;34m\u001b[0m\u001b[0;34m\u001b[0m\u001b[0m\n\u001b[0;32m---> 64\u001b[0;31m       \u001b[0;32mreturn\u001b[0m \u001b[0mfn\u001b[0m\u001b[0;34m(\u001b[0m\u001b[0;34m*\u001b[0m\u001b[0margs\u001b[0m\u001b[0;34m,\u001b[0m \u001b[0;34m**\u001b[0m\u001b[0mkwargs\u001b[0m\u001b[0;34m)\u001b[0m\u001b[0;34m\u001b[0m\u001b[0;34m\u001b[0m\u001b[0m\n\u001b[0m\u001b[1;32m     65\u001b[0m     \u001b[0;32mexcept\u001b[0m \u001b[0mException\u001b[0m \u001b[0;32mas\u001b[0m \u001b[0me\u001b[0m\u001b[0;34m:\u001b[0m  \u001b[0;31m# pylint: disable=broad-except\u001b[0m\u001b[0;34m\u001b[0m\u001b[0;34m\u001b[0m\u001b[0m\n\u001b[1;32m     66\u001b[0m       \u001b[0mfiltered_tb\u001b[0m \u001b[0;34m=\u001b[0m \u001b[0m_process_traceback_frames\u001b[0m\u001b[0;34m(\u001b[0m\u001b[0me\u001b[0m\u001b[0;34m.\u001b[0m\u001b[0m__traceback__\u001b[0m\u001b[0;34m)\u001b[0m\u001b[0;34m\u001b[0m\u001b[0;34m\u001b[0m\u001b[0m\n",
            "\u001b[0;32m/usr/local/lib/python3.7/dist-packages/keras/engine/training.py\u001b[0m in \u001b[0;36mfit\u001b[0;34m(self, x, y, batch_size, epochs, verbose, callbacks, validation_split, validation_data, shuffle, class_weight, sample_weight, initial_epoch, steps_per_epoch, validation_steps, validation_batch_size, validation_freq, max_queue_size, workers, use_multiprocessing)\u001b[0m\n\u001b[1;32m   1382\u001b[0m                 _r=1):\n\u001b[1;32m   1383\u001b[0m               \u001b[0mcallbacks\u001b[0m\u001b[0;34m.\u001b[0m\u001b[0mon_train_batch_begin\u001b[0m\u001b[0;34m(\u001b[0m\u001b[0mstep\u001b[0m\u001b[0;34m)\u001b[0m\u001b[0;34m\u001b[0m\u001b[0;34m\u001b[0m\u001b[0m\n\u001b[0;32m-> 1384\u001b[0;31m               \u001b[0mtmp_logs\u001b[0m \u001b[0;34m=\u001b[0m \u001b[0mself\u001b[0m\u001b[0;34m.\u001b[0m\u001b[0mtrain_function\u001b[0m\u001b[0;34m(\u001b[0m\u001b[0miterator\u001b[0m\u001b[0;34m)\u001b[0m\u001b[0;34m\u001b[0m\u001b[0;34m\u001b[0m\u001b[0m\n\u001b[0m\u001b[1;32m   1385\u001b[0m               \u001b[0;32mif\u001b[0m \u001b[0mdata_handler\u001b[0m\u001b[0;34m.\u001b[0m\u001b[0mshould_sync\u001b[0m\u001b[0;34m:\u001b[0m\u001b[0;34m\u001b[0m\u001b[0;34m\u001b[0m\u001b[0m\n\u001b[1;32m   1386\u001b[0m                 \u001b[0mcontext\u001b[0m\u001b[0;34m.\u001b[0m\u001b[0masync_wait\u001b[0m\u001b[0;34m(\u001b[0m\u001b[0;34m)\u001b[0m\u001b[0;34m\u001b[0m\u001b[0;34m\u001b[0m\u001b[0m\n",
            "\u001b[0;32m/usr/local/lib/python3.7/dist-packages/tensorflow/python/util/traceback_utils.py\u001b[0m in \u001b[0;36merror_handler\u001b[0;34m(*args, **kwargs)\u001b[0m\n\u001b[1;32m    148\u001b[0m     \u001b[0mfiltered_tb\u001b[0m \u001b[0;34m=\u001b[0m \u001b[0;32mNone\u001b[0m\u001b[0;34m\u001b[0m\u001b[0;34m\u001b[0m\u001b[0m\n\u001b[1;32m    149\u001b[0m     \u001b[0;32mtry\u001b[0m\u001b[0;34m:\u001b[0m\u001b[0;34m\u001b[0m\u001b[0;34m\u001b[0m\u001b[0m\n\u001b[0;32m--> 150\u001b[0;31m       \u001b[0;32mreturn\u001b[0m \u001b[0mfn\u001b[0m\u001b[0;34m(\u001b[0m\u001b[0;34m*\u001b[0m\u001b[0margs\u001b[0m\u001b[0;34m,\u001b[0m \u001b[0;34m**\u001b[0m\u001b[0mkwargs\u001b[0m\u001b[0;34m)\u001b[0m\u001b[0;34m\u001b[0m\u001b[0;34m\u001b[0m\u001b[0m\n\u001b[0m\u001b[1;32m    151\u001b[0m     \u001b[0;32mexcept\u001b[0m \u001b[0mException\u001b[0m \u001b[0;32mas\u001b[0m \u001b[0me\u001b[0m\u001b[0;34m:\u001b[0m\u001b[0;34m\u001b[0m\u001b[0;34m\u001b[0m\u001b[0m\n\u001b[1;32m    152\u001b[0m       \u001b[0mfiltered_tb\u001b[0m \u001b[0;34m=\u001b[0m \u001b[0m_process_traceback_frames\u001b[0m\u001b[0;34m(\u001b[0m\u001b[0me\u001b[0m\u001b[0;34m.\u001b[0m\u001b[0m__traceback__\u001b[0m\u001b[0;34m)\u001b[0m\u001b[0;34m\u001b[0m\u001b[0;34m\u001b[0m\u001b[0m\n",
            "\u001b[0;32m/usr/local/lib/python3.7/dist-packages/tensorflow/python/eager/def_function.py\u001b[0m in \u001b[0;36m__call__\u001b[0;34m(self, *args, **kwds)\u001b[0m\n\u001b[1;32m    913\u001b[0m \u001b[0;34m\u001b[0m\u001b[0m\n\u001b[1;32m    914\u001b[0m       \u001b[0;32mwith\u001b[0m \u001b[0mOptionalXlaContext\u001b[0m\u001b[0;34m(\u001b[0m\u001b[0mself\u001b[0m\u001b[0;34m.\u001b[0m\u001b[0m_jit_compile\u001b[0m\u001b[0;34m)\u001b[0m\u001b[0;34m:\u001b[0m\u001b[0;34m\u001b[0m\u001b[0;34m\u001b[0m\u001b[0m\n\u001b[0;32m--> 915\u001b[0;31m         \u001b[0mresult\u001b[0m \u001b[0;34m=\u001b[0m \u001b[0mself\u001b[0m\u001b[0;34m.\u001b[0m\u001b[0m_call\u001b[0m\u001b[0;34m(\u001b[0m\u001b[0;34m*\u001b[0m\u001b[0margs\u001b[0m\u001b[0;34m,\u001b[0m \u001b[0;34m**\u001b[0m\u001b[0mkwds\u001b[0m\u001b[0;34m)\u001b[0m\u001b[0;34m\u001b[0m\u001b[0;34m\u001b[0m\u001b[0m\n\u001b[0m\u001b[1;32m    916\u001b[0m \u001b[0;34m\u001b[0m\u001b[0m\n\u001b[1;32m    917\u001b[0m       \u001b[0mnew_tracing_count\u001b[0m \u001b[0;34m=\u001b[0m \u001b[0mself\u001b[0m\u001b[0;34m.\u001b[0m\u001b[0mexperimental_get_tracing_count\u001b[0m\u001b[0;34m(\u001b[0m\u001b[0;34m)\u001b[0m\u001b[0;34m\u001b[0m\u001b[0;34m\u001b[0m\u001b[0m\n",
            "\u001b[0;32m/usr/local/lib/python3.7/dist-packages/tensorflow/python/eager/def_function.py\u001b[0m in \u001b[0;36m_call\u001b[0;34m(self, *args, **kwds)\u001b[0m\n\u001b[1;32m    945\u001b[0m       \u001b[0;31m# In this case we have created variables on the first call, so we run the\u001b[0m\u001b[0;34m\u001b[0m\u001b[0;34m\u001b[0m\u001b[0;34m\u001b[0m\u001b[0m\n\u001b[1;32m    946\u001b[0m       \u001b[0;31m# defunned version which is guaranteed to never create variables.\u001b[0m\u001b[0;34m\u001b[0m\u001b[0;34m\u001b[0m\u001b[0;34m\u001b[0m\u001b[0m\n\u001b[0;32m--> 947\u001b[0;31m       \u001b[0;32mreturn\u001b[0m \u001b[0mself\u001b[0m\u001b[0;34m.\u001b[0m\u001b[0m_stateless_fn\u001b[0m\u001b[0;34m(\u001b[0m\u001b[0;34m*\u001b[0m\u001b[0margs\u001b[0m\u001b[0;34m,\u001b[0m \u001b[0;34m**\u001b[0m\u001b[0mkwds\u001b[0m\u001b[0;34m)\u001b[0m  \u001b[0;31m# pylint: disable=not-callable\u001b[0m\u001b[0;34m\u001b[0m\u001b[0;34m\u001b[0m\u001b[0m\n\u001b[0m\u001b[1;32m    948\u001b[0m     \u001b[0;32melif\u001b[0m \u001b[0mself\u001b[0m\u001b[0;34m.\u001b[0m\u001b[0m_stateful_fn\u001b[0m \u001b[0;32mis\u001b[0m \u001b[0;32mnot\u001b[0m \u001b[0;32mNone\u001b[0m\u001b[0;34m:\u001b[0m\u001b[0;34m\u001b[0m\u001b[0;34m\u001b[0m\u001b[0m\n\u001b[1;32m    949\u001b[0m       \u001b[0;31m# Release the lock early so that multiple threads can perform the call\u001b[0m\u001b[0;34m\u001b[0m\u001b[0;34m\u001b[0m\u001b[0;34m\u001b[0m\u001b[0m\n",
            "\u001b[0;32m/usr/local/lib/python3.7/dist-packages/tensorflow/python/eager/function.py\u001b[0m in \u001b[0;36m__call__\u001b[0;34m(self, *args, **kwargs)\u001b[0m\n\u001b[1;32m   2955\u001b[0m        filtered_flat_args) = self._maybe_define_function(args, kwargs)\n\u001b[1;32m   2956\u001b[0m     return graph_function._call_flat(\n\u001b[0;32m-> 2957\u001b[0;31m         filtered_flat_args, captured_inputs=graph_function.captured_inputs)  # pylint: disable=protected-access\n\u001b[0m\u001b[1;32m   2958\u001b[0m \u001b[0;34m\u001b[0m\u001b[0m\n\u001b[1;32m   2959\u001b[0m   \u001b[0;34m@\u001b[0m\u001b[0mproperty\u001b[0m\u001b[0;34m\u001b[0m\u001b[0;34m\u001b[0m\u001b[0m\n",
            "\u001b[0;32m/usr/local/lib/python3.7/dist-packages/tensorflow/python/eager/function.py\u001b[0m in \u001b[0;36m_call_flat\u001b[0;34m(self, args, captured_inputs, cancellation_manager)\u001b[0m\n\u001b[1;32m   1852\u001b[0m       \u001b[0;31m# No tape is watching; skip to running the function.\u001b[0m\u001b[0;34m\u001b[0m\u001b[0;34m\u001b[0m\u001b[0;34m\u001b[0m\u001b[0m\n\u001b[1;32m   1853\u001b[0m       return self._build_call_outputs(self._inference_function.call(\n\u001b[0;32m-> 1854\u001b[0;31m           ctx, args, cancellation_manager=cancellation_manager))\n\u001b[0m\u001b[1;32m   1855\u001b[0m     forward_backward = self._select_forward_and_backward_functions(\n\u001b[1;32m   1856\u001b[0m         \u001b[0margs\u001b[0m\u001b[0;34m,\u001b[0m\u001b[0;34m\u001b[0m\u001b[0;34m\u001b[0m\u001b[0m\n",
            "\u001b[0;32m/usr/local/lib/python3.7/dist-packages/tensorflow/python/eager/function.py\u001b[0m in \u001b[0;36mcall\u001b[0;34m(self, ctx, args, cancellation_manager)\u001b[0m\n\u001b[1;32m    502\u001b[0m               \u001b[0minputs\u001b[0m\u001b[0;34m=\u001b[0m\u001b[0margs\u001b[0m\u001b[0;34m,\u001b[0m\u001b[0;34m\u001b[0m\u001b[0;34m\u001b[0m\u001b[0m\n\u001b[1;32m    503\u001b[0m               \u001b[0mattrs\u001b[0m\u001b[0;34m=\u001b[0m\u001b[0mattrs\u001b[0m\u001b[0;34m,\u001b[0m\u001b[0;34m\u001b[0m\u001b[0;34m\u001b[0m\u001b[0m\n\u001b[0;32m--> 504\u001b[0;31m               ctx=ctx)\n\u001b[0m\u001b[1;32m    505\u001b[0m         \u001b[0;32melse\u001b[0m\u001b[0;34m:\u001b[0m\u001b[0;34m\u001b[0m\u001b[0;34m\u001b[0m\u001b[0m\n\u001b[1;32m    506\u001b[0m           outputs = execute.execute_with_cancellation(\n",
            "\u001b[0;32m/usr/local/lib/python3.7/dist-packages/tensorflow/python/eager/execute.py\u001b[0m in \u001b[0;36mquick_execute\u001b[0;34m(op_name, num_outputs, inputs, attrs, ctx, name)\u001b[0m\n\u001b[1;32m     53\u001b[0m     \u001b[0mctx\u001b[0m\u001b[0;34m.\u001b[0m\u001b[0mensure_initialized\u001b[0m\u001b[0;34m(\u001b[0m\u001b[0;34m)\u001b[0m\u001b[0;34m\u001b[0m\u001b[0;34m\u001b[0m\u001b[0m\n\u001b[1;32m     54\u001b[0m     tensors = pywrap_tfe.TFE_Py_Execute(ctx._handle, device_name, op_name,\n\u001b[0;32m---> 55\u001b[0;31m                                         inputs, attrs, num_outputs)\n\u001b[0m\u001b[1;32m     56\u001b[0m   \u001b[0;32mexcept\u001b[0m \u001b[0mcore\u001b[0m\u001b[0;34m.\u001b[0m\u001b[0m_NotOkStatusException\u001b[0m \u001b[0;32mas\u001b[0m \u001b[0me\u001b[0m\u001b[0;34m:\u001b[0m\u001b[0;34m\u001b[0m\u001b[0;34m\u001b[0m\u001b[0m\n\u001b[1;32m     57\u001b[0m     \u001b[0;32mif\u001b[0m \u001b[0mname\u001b[0m \u001b[0;32mis\u001b[0m \u001b[0;32mnot\u001b[0m \u001b[0;32mNone\u001b[0m\u001b[0;34m:\u001b[0m\u001b[0;34m\u001b[0m\u001b[0;34m\u001b[0m\u001b[0m\n",
            "\u001b[0;31mKeyboardInterrupt\u001b[0m: "
          ]
        }
      ],
      "source": [
        "model_4 = tf.keras.models.Sequential([\n",
        "tf.keras.layers.Dense(64, activation='relu', input_shape=[28,28]),\n",
        "tf.keras.layers.Flatten(),\n",
        "tf.keras.layers.Dense(252, activation=heartbeat_activation),\n",
        "tf.keras.layers.Dense(84, activation='relu'),\n",
        "tf.keras.layers.Dense(10, activation='softmax')\n",
        "])\n",
        "\n",
        "model_4.summary()\n",
        "model_4.compile(loss = 'sparse_categorical_crossentropy', optimizer ='Adam', metrics=['acc'])\n",
        "\n",
        "history = model_4.fit(x_train, y_train, verbose=1, batch_size=10, epochs=100, validation_data=(x_test, y_test))"
      ]
    },
    {
      "cell_type": "code",
      "execution_count": null,
      "metadata": {
        "id": "6Xzh-ZRr9UKQ"
      },
      "outputs": [],
      "source": [
        "model_5 = tf.keras.models.Sequential([\n",
        "tf.keras.layers.Dense(64, activation='relu', input_shape=[28,28]),\n",
        "tf.keras.layers.MaxPooling2D(2,2),\n",
        "tf.keras.layers.Conv2D(64, (3,3), activation='relu'),\n",
        "tf.keras.layers.MaxPooling2D(2,2),\n",
        "tf.keras.layers.Conv2D(64, (3,3), activation='relu'),\n",
        "tf.keras.layers.MaxPooling2D(2,2),\n",
        "tf.keras.layers.Flatten(),\n",
        "tf.keras.layers.Dense(252, activation=heartbeat_activation),\n",
        "tf.keras.layers.Dense(84, activation='relu'),\n",
        "tf.keras.layers.Dense(10, activation='softmax')\n",
        "])\n",
        "\n",
        "model_5.summary()\n",
        "model_5.compile(loss = 'sparse_categorical_crossentropy', optimizer ='Adam', metrics=['acc'])\n",
        "\n",
        "history = model_5.fit(x_train, y_train, verbose=1, batch_size=10, epochs=100, validation_data=(x_test, y_test))"
      ]
    },
    {
      "cell_type": "code",
      "execution_count": null,
      "metadata": {
        "id": "2rfJ9Q8FiBNT"
      },
      "outputs": [],
      "source": [
        ""
      ]
    },
    {
      "cell_type": "code",
      "execution_count": null,
      "metadata": {
        "id": "myYR4H6n9idT"
      },
      "outputs": [],
      "source": [
        "model_6 = tf.keras.models.Sequential([\n",
        "tf.keras.layers.Dense(64, activation='relu', input_shape=[28,28]),\n",
        "tf.keras.layers.MaxPooling2D(2,2),\n",
        "tf.keras.layers.Conv2D(64, (3,3), activation='relu'),\n",
        "tf.keras.layers.MaxPooling2D(2,2),\n",
        "tf.keras.layers.Conv2D(64, (3,3), activation='relu'),\n",
        "tf.keras.layers.MaxPooling2D(2,2),\n",
        "tf.keras.layers.Flatten(),\n",
        "tf.keras.layers.Dense(252, activation='relu'),\n",
        "tf.keras.layers.Dense(84, activation=heartbeat_activation),\n",
        "tf.keras.layers.Dense(10, activation='softmax')\n",
        "])\n",
        "\n",
        "model_6.summary()\n",
        "model_6.compile(loss = 'sparse_categorical_crossentropy', optimizer ='Adam', metrics=['acc'])\n",
        "\n",
        "history = model_6.fit(x_train, y_train, verbose=1, batch_size=10, epochs=100, validation_data=(x_test, y_test))"
      ]
    }
  ],
  "metadata": {
    "accelerator": "GPU",
    "colab": {
      "collapsed_sections": [],
      "name": "Activation Functions (with MNIST).ipynb",
      "provenance": [],
      "authorship_tag": "ABX9TyMDe2I8PO6PmMWS7mnVv6bt"
    },
    "kernelspec": {
      "display_name": "Python 3",
      "name": "python3"
    },
    "language_info": {
      "name": "python"
    }
  },
  "nbformat": 4,
  "nbformat_minor": 0
}